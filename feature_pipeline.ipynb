{
 "cells": [
  {
   "attachments": {},
   "cell_type": "markdown",
   "metadata": {},
   "source": [
    "## Prepare"
   ]
  },
  {
   "cell_type": "code",
   "execution_count": 1,
   "metadata": {},
   "outputs": [
    {
     "name": "stdout",
     "output_type": "stream",
     "text": [
      "Error: must run as root\n",
      "Reading package lists... Done\n",
      "\u001b[1;31mE: \u001b[0mCould not open lock file /var/lib/apt/lists/lock - open (13: Permission denied)\u001b[0m\n",
      "\u001b[1;31mE: \u001b[0mUnable to lock directory /var/lib/apt/lists/\u001b[0m\n",
      "\u001b[1;33mW: \u001b[0mProblem unlinking the file /var/cache/apt/pkgcache.bin - RemoveCaches (13: Permission denied)\u001b[0m\n",
      "\u001b[1;33mW: \u001b[0mProblem unlinking the file /var/cache/apt/srcpkgcache.bin - RemoveCaches (13: Permission denied)\u001b[0m\n",
      "\u001b[1;31mE: \u001b[0mCould not open lock file /var/lib/dpkg/lock-frontend - open (13: Permission denied)\u001b[0m\n",
      "\u001b[1;31mE: \u001b[0mUnable to acquire the dpkg frontend lock (/var/lib/dpkg/lock-frontend), are you root?\u001b[0m\n"
     ]
    }
   ],
   "source": [
    "!add-apt-repository -y ppa:jonathonf/ffmpeg-4\n",
    "!apt update\n",
    "!apt install -y ffmpeg"
   ]
  },
  {
   "cell_type": "code",
   "execution_count": 2,
   "metadata": {},
   "outputs": [
    {
     "name": "stdout",
     "output_type": "stream",
     "text": [
      "\u001b[33mWARNING: You are using pip version 21.3.1; however, version 22.3.1 is available.\n",
      "You should consider upgrading via the '/home/carlo/anaconda3/envs/data_IC/bin/python -m pip install --upgrade pip' command.\u001b[0m\n",
      "Collecting git+https://github.com/huggingface/transformers\n",
      "  Cloning https://github.com/huggingface/transformers to /tmp/pip-req-build-2k8aa_4w\n",
      "  Running command git clone --filter=blob:none -q https://github.com/huggingface/transformers /tmp/pip-req-build-2k8aa_4w\n",
      "  Resolved https://github.com/huggingface/transformers to commit a03f7514dbd1eef22e2704abc679794b9a6c0064\n",
      "  Installing build dependencies ... \u001b[?25ldone\n",
      "\u001b[?25h  Getting requirements to build wheel ... \u001b[?25ldone\n",
      "\u001b[?25h  Preparing metadata (pyproject.toml) ... \u001b[?25ldone\n",
      "\u001b[?25hCollecting tokenizers!=0.11.3,<0.14,>=0.11.1\n",
      "  Downloading tokenizers-0.13.2-cp310-cp310-manylinux_2_17_x86_64.manylinux2014_x86_64.whl (7.6 MB)\n",
      "     |████████████████████████████████| 7.6 MB 3.6 MB/s            \n",
      "\u001b[?25hRequirement already satisfied: tqdm>=4.27 in /home/carlo/anaconda3/envs/data_IC/lib/python3.10/site-packages (from transformers==4.26.0.dev0) (4.64.1)\n",
      "Collecting regex!=2019.12.17\n",
      "  Downloading regex-2022.10.31-cp310-cp310-manylinux_2_17_x86_64.manylinux2014_x86_64.whl (770 kB)\n",
      "     |████████████████████████████████| 770 kB 4.0 MB/s            \n",
      "\u001b[?25hRequirement already satisfied: packaging>=20.0 in /home/carlo/anaconda3/envs/data_IC/lib/python3.10/site-packages (from transformers==4.26.0.dev0) (21.3)\n",
      "Requirement already satisfied: filelock in /home/carlo/anaconda3/envs/data_IC/lib/python3.10/site-packages (from transformers==4.26.0.dev0) (3.8.0)\n",
      "Requirement already satisfied: huggingface-hub<1.0,>=0.10.0 in /home/carlo/anaconda3/envs/data_IC/lib/python3.10/site-packages (from transformers==4.26.0.dev0) (0.11.1)\n",
      "Requirement already satisfied: requests in /home/carlo/anaconda3/envs/data_IC/lib/python3.10/site-packages (from transformers==4.26.0.dev0) (2.28.1)\n",
      "Requirement already satisfied: pyyaml>=5.1 in /home/carlo/anaconda3/envs/data_IC/lib/python3.10/site-packages (from transformers==4.26.0.dev0) (6.0)\n",
      "Requirement already satisfied: numpy>=1.17 in /home/carlo/anaconda3/envs/data_IC/lib/python3.10/site-packages (from transformers==4.26.0.dev0) (1.23.1)\n",
      "Requirement already satisfied: typing-extensions>=3.7.4.3 in /home/carlo/anaconda3/envs/data_IC/lib/python3.10/site-packages (from huggingface-hub<1.0,>=0.10.0->transformers==4.26.0.dev0) (4.4.0)\n",
      "Requirement already satisfied: pyparsing!=3.0.5,>=2.0.2 in /home/carlo/anaconda3/envs/data_IC/lib/python3.10/site-packages (from packaging>=20.0->transformers==4.26.0.dev0) (3.0.9)\n",
      "Requirement already satisfied: charset-normalizer<3,>=2 in /home/carlo/anaconda3/envs/data_IC/lib/python3.10/site-packages (from requests->transformers==4.26.0.dev0) (2.1.1)\n",
      "Requirement already satisfied: certifi>=2017.4.17 in /home/carlo/anaconda3/envs/data_IC/lib/python3.10/site-packages (from requests->transformers==4.26.0.dev0) (2022.6.15)\n",
      "Requirement already satisfied: urllib3<1.27,>=1.21.1 in /home/carlo/anaconda3/envs/data_IC/lib/python3.10/site-packages (from requests->transformers==4.26.0.dev0) (1.26.13)\n",
      "Requirement already satisfied: idna<4,>=2.5 in /home/carlo/anaconda3/envs/data_IC/lib/python3.10/site-packages (from requests->transformers==4.26.0.dev0) (3.4)\n",
      "Building wheels for collected packages: transformers\n",
      "  Building wheel for transformers (pyproject.toml) ... \u001b[?25ldone\n",
      "\u001b[?25h  Created wheel for transformers: filename=transformers-4.26.0.dev0-py3-none-any.whl size=5938675 sha256=0ad86c0036f880a20a59d36083e149fcc454bde469afa7bfda47b6a1fba62c23\n",
      "  Stored in directory: /tmp/pip-ephem-wheel-cache-mg1tky5f/wheels/c0/14/d6/6c9a5582d2ac191ec0a483be151a4495fe1eb2a6706ca49f1b\n",
      "Successfully built transformers\n",
      "Installing collected packages: tokenizers, regex, transformers\n",
      "Successfully installed regex-2022.10.31 tokenizers-0.13.2 transformers-4.26.0.dev0\n",
      "\u001b[33mWARNING: You are using pip version 21.3.1; however, version 22.3.1 is available.\n",
      "You should consider upgrading via the '/home/carlo/anaconda3/envs/data_IC/bin/python -m pip install --upgrade pip' command.\u001b[0m\n",
      "Collecting librosa\n",
      "  Downloading librosa-0.9.2-py3-none-any.whl (214 kB)\n",
      "     |████████████████████████████████| 214 kB 5.9 MB/s            \n",
      "\u001b[?25hCollecting soundfile>=0.10.2\n",
      "  Downloading soundfile-0.11.0-py2.py3-none-any.whl (23 kB)\n",
      "Requirement already satisfied: numpy>=1.17.0 in /home/carlo/anaconda3/envs/data_IC/lib/python3.10/site-packages (from librosa) (1.23.1)\n",
      "Requirement already satisfied: packaging>=20.0 in /home/carlo/anaconda3/envs/data_IC/lib/python3.10/site-packages (from librosa) (21.3)\n",
      "Collecting audioread>=2.1.9\n",
      "  Downloading audioread-3.0.0.tar.gz (377 kB)\n",
      "     |████████████████████████████████| 377 kB 12.6 MB/s            \n",
      "\u001b[?25h  Preparing metadata (setup.py) ... \u001b[?25ldone\n",
      "\u001b[?25hCollecting joblib>=0.14\n",
      "  Using cached joblib-1.2.0-py3-none-any.whl (297 kB)\n",
      "Requirement already satisfied: decorator>=4.0.10 in /home/carlo/anaconda3/envs/data_IC/lib/python3.10/site-packages (from librosa) (5.1.1)\n",
      "Collecting resampy>=0.2.2\n",
      "  Downloading resampy-0.4.2-py3-none-any.whl (3.1 MB)\n",
      "     |████████████████████████████████| 3.1 MB 4.9 MB/s            \n",
      "\u001b[?25hCollecting scipy>=1.2.0\n",
      "  Downloading scipy-1.9.3-cp310-cp310-manylinux_2_17_x86_64.manylinux2014_x86_64.whl (33.7 MB)\n",
      "     |████████████████████████████████| 33.7 MB 4.1 MB/s            \n",
      "\u001b[?25hCollecting numba>=0.45.1\n",
      "  Downloading numba-0.56.4-cp310-cp310-manylinux2014_x86_64.manylinux_2_17_x86_64.whl (3.5 MB)\n",
      "     |████████████████████████████████| 3.5 MB 1.2 MB/s            \n",
      "\u001b[?25hCollecting pooch>=1.0\n",
      "  Downloading pooch-1.6.0-py3-none-any.whl (56 kB)\n",
      "     |████████████████████████████████| 56 kB 1.2 MB/s            \n",
      "\u001b[?25hCollecting scikit-learn>=0.19.1\n",
      "  Downloading scikit_learn-1.2.0-cp310-cp310-manylinux_2_17_x86_64.manylinux2014_x86_64.whl (9.5 MB)\n",
      "     |████████████████████████████████| 9.5 MB 2.0 MB/s            \n",
      "\u001b[?25hCollecting llvmlite<0.40,>=0.39.0dev0\n",
      "  Downloading llvmlite-0.39.1-cp310-cp310-manylinux_2_17_x86_64.manylinux2014_x86_64.whl (34.6 MB)\n",
      "     |████████████████████████████████| 34.6 MB 4.4 MB/s            \n",
      "\u001b[?25hRequirement already satisfied: setuptools in /home/carlo/anaconda3/envs/data_IC/lib/python3.10/site-packages (from numba>=0.45.1->librosa) (63.4.1)\n",
      "Requirement already satisfied: pyparsing!=3.0.5,>=2.0.2 in /home/carlo/anaconda3/envs/data_IC/lib/python3.10/site-packages (from packaging>=20.0->librosa) (3.0.9)\n",
      "Requirement already satisfied: requests>=2.19.0 in /home/carlo/anaconda3/envs/data_IC/lib/python3.10/site-packages (from pooch>=1.0->librosa) (2.28.1)\n",
      "Collecting appdirs>=1.3.0\n",
      "  Downloading appdirs-1.4.4-py2.py3-none-any.whl (9.6 kB)\n",
      "Collecting threadpoolctl>=2.0.0\n",
      "  Using cached threadpoolctl-3.1.0-py3-none-any.whl (14 kB)\n",
      "Collecting cffi>=1.0\n",
      "  Downloading cffi-1.15.1-cp310-cp310-manylinux_2_17_x86_64.manylinux2014_x86_64.whl (441 kB)\n",
      "     |████████████████████████████████| 441 kB 1.9 MB/s            \n",
      "\u001b[?25hCollecting pycparser\n",
      "  Using cached pycparser-2.21-py2.py3-none-any.whl (118 kB)\n",
      "Requirement already satisfied: urllib3<1.27,>=1.21.1 in /home/carlo/anaconda3/envs/data_IC/lib/python3.10/site-packages (from requests>=2.19.0->pooch>=1.0->librosa) (1.26.13)\n",
      "Requirement already satisfied: certifi>=2017.4.17 in /home/carlo/anaconda3/envs/data_IC/lib/python3.10/site-packages (from requests>=2.19.0->pooch>=1.0->librosa) (2022.6.15)\n",
      "Requirement already satisfied: idna<4,>=2.5 in /home/carlo/anaconda3/envs/data_IC/lib/python3.10/site-packages (from requests>=2.19.0->pooch>=1.0->librosa) (3.4)\n",
      "Requirement already satisfied: charset-normalizer<3,>=2 in /home/carlo/anaconda3/envs/data_IC/lib/python3.10/site-packages (from requests>=2.19.0->pooch>=1.0->librosa) (2.1.1)\n",
      "Building wheels for collected packages: audioread\n",
      "  Building wheel for audioread (setup.py) ... \u001b[?25ldone\n",
      "\u001b[?25h  Created wheel for audioread: filename=audioread-3.0.0-py3-none-any.whl size=23703 sha256=742f71aa762cf58af34142761f709da980dd1010f183fa7b795aab019aa6af55\n",
      "  Stored in directory: /home/carlo/.cache/pip/wheels/da/4b/39/c5f6c4ee93b43281dda4dab5ac5f2bdf9d11074d427493cd55\n",
      "Successfully built audioread\n",
      "Installing collected packages: pycparser, llvmlite, threadpoolctl, scipy, numba, joblib, cffi, appdirs, soundfile, scikit-learn, resampy, pooch, audioread, librosa\n",
      "Successfully installed appdirs-1.4.4 audioread-3.0.0 cffi-1.15.1 joblib-1.2.0 librosa-0.9.2 llvmlite-0.39.1 numba-0.56.4 pooch-1.6.0 pycparser-2.21 resampy-0.4.2 scikit-learn-1.2.0 scipy-1.9.3 soundfile-0.11.0 threadpoolctl-3.1.0\n",
      "\u001b[33mWARNING: You are using pip version 21.3.1; however, version 22.3.1 is available.\n",
      "You should consider upgrading via the '/home/carlo/anaconda3/envs/data_IC/bin/python -m pip install --upgrade pip' command.\u001b[0m\n",
      "\u001b[33mWARNING: You are using pip version 21.3.1; however, version 22.3.1 is available.\n",
      "You should consider upgrading via the '/home/carlo/anaconda3/envs/data_IC/bin/python -m pip install --upgrade pip' command.\u001b[0m\n",
      "Collecting jiwer\n",
      "  Downloading jiwer-2.5.1-py3-none-any.whl (15 kB)\n",
      "Collecting levenshtein==0.20.2\n",
      "  Downloading Levenshtein-0.20.2-cp310-cp310-manylinux_2_17_x86_64.manylinux2014_x86_64.whl (1.4 MB)\n",
      "     |████████████████████████████████| 1.4 MB 3.2 MB/s            \n",
      "\u001b[?25hCollecting rapidfuzz<3.0.0,>=2.3.0\n",
      "  Downloading rapidfuzz-2.13.3-cp310-cp310-manylinux_2_17_x86_64.manylinux2014_x86_64.whl (2.2 MB)\n",
      "     |████████████████████████████████| 2.2 MB 2.6 MB/s            \n",
      "\u001b[?25hInstalling collected packages: rapidfuzz, levenshtein, jiwer\n",
      "Successfully installed jiwer-2.5.1 levenshtein-0.20.2 rapidfuzz-2.13.3\n",
      "\u001b[33mWARNING: You are using pip version 21.3.1; however, version 22.3.1 is available.\n",
      "You should consider upgrading via the '/home/carlo/anaconda3/envs/data_IC/bin/python -m pip install --upgrade pip' command.\u001b[0m\n",
      "Collecting gradio\n",
      "  Downloading gradio-3.12.0-py3-none-any.whl (11.6 MB)\n",
      "     |████████████████████████████████| 11.6 MB 451 kB/s            \n",
      "\u001b[?25hRequirement already satisfied: aiohttp in /home/carlo/anaconda3/envs/data_IC/lib/python3.10/site-packages (from gradio) (3.8.3)\n",
      "Requirement already satisfied: fsspec in /home/carlo/anaconda3/envs/data_IC/lib/python3.10/site-packages (from gradio) (2022.11.0)\n",
      "Collecting orjson\n",
      "  Downloading orjson-3.8.3-cp310-cp310-manylinux_2_28_x86_64.whl (144 kB)\n",
      "     |████████████████████████████████| 144 kB 5.2 MB/s            \n",
      "\u001b[?25hCollecting paramiko\n",
      "  Using cached paramiko-2.12.0-py2.py3-none-any.whl (213 kB)\n",
      "Collecting pydub\n",
      "  Using cached pydub-0.25.1-py2.py3-none-any.whl (32 kB)\n",
      "Collecting pycryptodome\n",
      "  Downloading pycryptodome-3.16.0-cp35-abi3-manylinux_2_5_x86_64.manylinux1_x86_64.manylinux_2_12_x86_64.manylinux2010_x86_64.whl (2.3 MB)\n",
      "     |████████████████████████████████| 2.3 MB 5.4 MB/s            \n",
      "\u001b[?25hRequirement already satisfied: pyyaml in /home/carlo/anaconda3/envs/data_IC/lib/python3.10/site-packages (from gradio) (6.0)\n",
      "Requirement already satisfied: pandas in /home/carlo/anaconda3/envs/data_IC/lib/python3.10/site-packages (from gradio) (1.4.3)\n",
      "Collecting pydantic\n",
      "  Downloading pydantic-1.10.2-cp310-cp310-manylinux_2_17_x86_64.manylinux2014_x86_64.whl (12.8 MB)\n",
      "     |████████████████████████████████| 12.8 MB 3.2 MB/s            \n",
      "\u001b[?25hCollecting h11<0.13,>=0.11\n",
      "  Using cached h11-0.12.0-py3-none-any.whl (54 kB)\n",
      "Collecting markdown-it-py[linkify,plugins]\n",
      "  Using cached markdown_it_py-2.1.0-py3-none-any.whl (84 kB)\n",
      "Collecting pillow\n",
      "  Downloading Pillow-9.3.0-cp310-cp310-manylinux_2_28_x86_64.whl (3.3 MB)\n",
      "     |████████████████████████████████| 3.3 MB 735 kB/s            \n",
      "\u001b[?25hCollecting jinja2\n",
      "  Using cached Jinja2-3.1.2-py3-none-any.whl (133 kB)\n",
      "Collecting httpx\n",
      "  Downloading httpx-0.23.1-py3-none-any.whl (84 kB)\n",
      "     |████████████████████████████████| 84 kB 1.8 MB/s            \n",
      "\u001b[?25hCollecting python-multipart\n",
      "  Using cached python-multipart-0.0.5.tar.gz (32 kB)\n",
      "  Preparing metadata (setup.py) ... \u001b[?25ldone\n",
      "\u001b[?25hCollecting ffmpy\n",
      "  Using cached ffmpy-0.3.0.tar.gz (4.8 kB)\n",
      "  Preparing metadata (setup.py) ... \u001b[?25ldone\n",
      "\u001b[?25hCollecting uvicorn\n",
      "  Downloading uvicorn-0.20.0-py3-none-any.whl (56 kB)\n",
      "     |████████████████████████████████| 56 kB 1.9 MB/s             \n",
      "\u001b[?25hCollecting fastapi\n",
      "  Downloading fastapi-0.88.0-py3-none-any.whl (55 kB)\n",
      "     |████████████████████████████████| 55 kB 1.5 MB/s            \n",
      "\u001b[?25hCollecting websockets>=10.0\n",
      "  Downloading websockets-10.4-cp310-cp310-manylinux_2_5_x86_64.manylinux1_x86_64.manylinux_2_17_x86_64.manylinux2014_x86_64.whl (106 kB)\n",
      "     |████████████████████████████████| 106 kB 5.4 MB/s            \n",
      "\u001b[?25hCollecting matplotlib\n",
      "  Downloading matplotlib-3.6.2-cp310-cp310-manylinux_2_17_x86_64.manylinux2014_x86_64.whl (11.8 MB)\n",
      "     |████████████████████████████████| 11.8 MB 3.8 MB/s            \n",
      "\u001b[?25hRequirement already satisfied: numpy in /home/carlo/anaconda3/envs/data_IC/lib/python3.10/site-packages (from gradio) (1.23.1)\n",
      "Requirement already satisfied: requests in /home/carlo/anaconda3/envs/data_IC/lib/python3.10/site-packages (from gradio) (2.28.1)\n",
      "Requirement already satisfied: multidict<7.0,>=4.5 in /home/carlo/anaconda3/envs/data_IC/lib/python3.10/site-packages (from aiohttp->gradio) (6.0.3)\n",
      "Requirement already satisfied: charset-normalizer<3.0,>=2.0 in /home/carlo/anaconda3/envs/data_IC/lib/python3.10/site-packages (from aiohttp->gradio) (2.1.1)\n",
      "Requirement already satisfied: attrs>=17.3.0 in /home/carlo/anaconda3/envs/data_IC/lib/python3.10/site-packages (from aiohttp->gradio) (22.1.0)\n",
      "Requirement already satisfied: aiosignal>=1.1.2 in /home/carlo/anaconda3/envs/data_IC/lib/python3.10/site-packages (from aiohttp->gradio) (1.3.1)\n",
      "Requirement already satisfied: frozenlist>=1.1.1 in /home/carlo/anaconda3/envs/data_IC/lib/python3.10/site-packages (from aiohttp->gradio) (1.3.3)\n",
      "Requirement already satisfied: async-timeout<5.0,>=4.0.0a3 in /home/carlo/anaconda3/envs/data_IC/lib/python3.10/site-packages (from aiohttp->gradio) (4.0.2)\n",
      "Requirement already satisfied: yarl<2.0,>=1.0 in /home/carlo/anaconda3/envs/data_IC/lib/python3.10/site-packages (from aiohttp->gradio) (1.8.2)\n",
      "Collecting starlette==0.22.0\n",
      "  Downloading starlette-0.22.0-py3-none-any.whl (64 kB)\n",
      "     |████████████████████████████████| 64 kB 1.1 MB/s            \n",
      "\u001b[?25hCollecting anyio<5,>=3.4.0\n",
      "  Using cached anyio-3.6.2-py3-none-any.whl (80 kB)\n",
      "Requirement already satisfied: typing-extensions>=4.1.0 in /home/carlo/anaconda3/envs/data_IC/lib/python3.10/site-packages (from pydantic->gradio) (4.4.0)\n",
      "Collecting rfc3986[idna2008]<2,>=1.3\n",
      "  Using cached rfc3986-1.5.0-py2.py3-none-any.whl (31 kB)\n",
      "Requirement already satisfied: certifi in /home/carlo/anaconda3/envs/data_IC/lib/python3.10/site-packages (from httpx->gradio) (2022.6.15)\n",
      "Collecting httpcore<0.17.0,>=0.15.0\n",
      "  Downloading httpcore-0.16.2-py3-none-any.whl (68 kB)\n",
      "     |████████████████████████████████| 68 kB 1.8 MB/s            \n",
      "\u001b[?25hCollecting sniffio\n",
      "  Using cached sniffio-1.3.0-py3-none-any.whl (10 kB)\n",
      "Collecting MarkupSafe>=2.0\n",
      "  Downloading MarkupSafe-2.1.1-cp310-cp310-manylinux_2_17_x86_64.manylinux2014_x86_64.whl (25 kB)\n",
      "Collecting mdurl~=0.1\n",
      "  Using cached mdurl-0.1.2-py3-none-any.whl (10.0 kB)\n",
      "Collecting mdit-py-plugins\n",
      "  Downloading mdit_py_plugins-0.3.3-py3-none-any.whl (50 kB)\n",
      "     |████████████████████████████████| 50 kB 2.2 MB/s            \n",
      "\u001b[?25hCollecting linkify-it-py~=1.0\n",
      "  Using cached linkify_it_py-1.0.3-py3-none-any.whl (19 kB)\n",
      "Collecting cycler>=0.10\n",
      "  Using cached cycler-0.11.0-py3-none-any.whl (6.4 kB)\n",
      "Collecting fonttools>=4.22.0\n",
      "  Using cached fonttools-4.38.0-py3-none-any.whl (965 kB)\n",
      "Requirement already satisfied: pyparsing>=2.2.1 in /home/carlo/anaconda3/envs/data_IC/lib/python3.10/site-packages (from matplotlib->gradio) (3.0.9)\n",
      "Requirement already satisfied: python-dateutil>=2.7 in /home/carlo/anaconda3/envs/data_IC/lib/python3.10/site-packages (from matplotlib->gradio) (2.8.2)\n",
      "Requirement already satisfied: packaging>=20.0 in /home/carlo/anaconda3/envs/data_IC/lib/python3.10/site-packages (from matplotlib->gradio) (21.3)\n",
      "Collecting kiwisolver>=1.0.1\n",
      "  Using cached kiwisolver-1.4.4-cp310-cp310-manylinux_2_12_x86_64.manylinux2010_x86_64.whl (1.6 MB)\n",
      "Collecting contourpy>=1.0.1\n",
      "  Downloading contourpy-1.0.6-cp310-cp310-manylinux_2_17_x86_64.manylinux2014_x86_64.whl (296 kB)\n",
      "     |████████████████████████████████| 296 kB 3.3 MB/s            \n",
      "\u001b[?25hRequirement already satisfied: pytz>=2020.1 in /home/carlo/anaconda3/envs/data_IC/lib/python3.10/site-packages (from pandas->gradio) (2022.1)\n",
      "Collecting cryptography>=2.5\n",
      "  Downloading cryptography-38.0.4-cp36-abi3-manylinux_2_28_x86_64.whl (4.2 MB)\n",
      "     |████████████████████████████████| 4.2 MB 3.4 MB/s            \n",
      "\u001b[?25hCollecting bcrypt>=3.1.3\n",
      "  Using cached bcrypt-4.0.1-cp36-abi3-manylinux_2_28_x86_64.whl (593 kB)\n",
      "Collecting pynacl>=1.0.1\n",
      "  Using cached PyNaCl-1.5.0-cp36-abi3-manylinux_2_17_x86_64.manylinux2014_x86_64.manylinux_2_24_x86_64.whl (856 kB)\n",
      "Requirement already satisfied: six in /home/carlo/anaconda3/envs/data_IC/lib/python3.10/site-packages (from paramiko->gradio) (1.16.0)\n",
      "Requirement already satisfied: idna<4,>=2.5 in /home/carlo/anaconda3/envs/data_IC/lib/python3.10/site-packages (from requests->gradio) (3.4)\n",
      "Requirement already satisfied: urllib3<1.27,>=1.21.1 in /home/carlo/anaconda3/envs/data_IC/lib/python3.10/site-packages (from requests->gradio) (1.26.13)\n",
      "Collecting click>=7.0\n",
      "  Using cached click-8.1.3-py3-none-any.whl (96 kB)\n",
      "Requirement already satisfied: cffi>=1.12 in /home/carlo/anaconda3/envs/data_IC/lib/python3.10/site-packages (from cryptography>=2.5->paramiko->gradio) (1.15.1)\n",
      "Collecting httpcore<0.17.0,>=0.15.0\n",
      "  Downloading httpcore-0.16.1-py3-none-any.whl (68 kB)\n",
      "     |████████████████████████████████| 68 kB 1.2 MB/s            \n",
      "\u001b[?25h  Downloading httpcore-0.16.0-py3-none-any.whl (68 kB)\n",
      "     |████████████████████████████████| 68 kB 3.1 MB/s            \n",
      "\u001b[?25h  Using cached httpcore-0.15.0-py3-none-any.whl (68 kB)\n",
      "Collecting uc-micro-py\n",
      "  Using cached uc_micro_py-1.0.1-py3-none-any.whl (6.2 kB)\n",
      "Requirement already satisfied: pycparser in /home/carlo/anaconda3/envs/data_IC/lib/python3.10/site-packages (from cffi>=1.12->cryptography>=2.5->paramiko->gradio) (2.21)\n",
      "Building wheels for collected packages: ffmpy, python-multipart\n",
      "  Building wheel for ffmpy (setup.py) ... \u001b[?25ldone\n",
      "\u001b[?25h  Created wheel for ffmpy: filename=ffmpy-0.3.0-py3-none-any.whl size=4693 sha256=68cba652c62ef089f6d9818083b7c1131982ef19747fcb623d58f6729cfaf192\n",
      "  Stored in directory: /home/carlo/.cache/pip/wheels/0c/c2/0e/3b9c6845c6a4e35beb90910cc70d9ac9ab5d47402bd62af0df\n",
      "  Building wheel for python-multipart (setup.py) ... \u001b[?25ldone\n",
      "\u001b[?25h  Created wheel for python-multipart: filename=python_multipart-0.0.5-py3-none-any.whl size=31671 sha256=b26ac8d0e09d0f739b5eba81b1a04f6abd2d2e711a0d29cbd7985f05311555a7\n",
      "  Stored in directory: /home/carlo/.cache/pip/wheels/ae/3f/03/fa4bd98cd7f4a25e63b6a0b61a7a8352e0f874cd9de1f3390d\n",
      "Successfully built ffmpy python-multipart\n",
      "Installing collected packages: sniffio, mdurl, uc-micro-py, rfc3986, markdown-it-py, h11, anyio, starlette, pynacl, pydantic, pillow, mdit-py-plugins, MarkupSafe, linkify-it-py, kiwisolver, httpcore, fonttools, cycler, cryptography, contourpy, click, bcrypt, websockets, uvicorn, python-multipart, pydub, pycryptodome, paramiko, orjson, matplotlib, jinja2, httpx, ffmpy, fastapi, gradio\n",
      "Successfully installed MarkupSafe-2.1.1 anyio-3.6.2 bcrypt-4.0.1 click-8.1.3 contourpy-1.0.6 cryptography-38.0.4 cycler-0.11.0 fastapi-0.88.0 ffmpy-0.3.0 fonttools-4.38.0 gradio-3.12.0 h11-0.12.0 httpcore-0.15.0 httpx-0.23.1 jinja2-3.1.2 kiwisolver-1.4.4 linkify-it-py-1.0.3 markdown-it-py-2.1.0 matplotlib-3.6.2 mdit-py-plugins-0.3.3 mdurl-0.1.2 orjson-3.8.3 paramiko-2.12.0 pillow-9.3.0 pycryptodome-3.16.0 pydantic-1.10.2 pydub-0.25.1 pynacl-1.5.0 python-multipart-0.0.5 rfc3986-1.5.0 sniffio-1.3.0 starlette-0.22.0 uc-micro-py-1.0.1 uvicorn-0.20.0 websockets-10.4\n",
      "\u001b[33mWARNING: You are using pip version 21.3.1; however, version 22.3.1 is available.\n",
      "You should consider upgrading via the '/home/carlo/anaconda3/envs/data_IC/bin/python -m pip install --upgrade pip' command.\u001b[0m\n"
     ]
    }
   ],
   "source": [
    "!pip install datasets>=2.6.1\n",
    "!pip install git+https://github.com/huggingface/transformers\n",
    "!pip install librosa\n",
    "!pip install evaluate>=0.30\n",
    "!pip install jiwer\n",
    "!pip install gradio"
   ]
  },
  {
   "attachments": {},
   "cell_type": "markdown",
   "metadata": {},
   "source": [
    "## Imports"
   ]
  },
  {
   "cell_type": "code",
   "execution_count": null,
   "metadata": {},
   "outputs": [],
   "source": [
    "from huggingface_hub import notebook_login\n",
    "\n",
    "notebook_login()"
   ]
  },
  {
   "attachments": {},
   "cell_type": "markdown",
   "metadata": {},
   "source": [
    "## Mount google drive"
   ]
  },
  {
   "cell_type": "code",
   "execution_count": null,
   "metadata": {},
   "outputs": [],
   "source": [
    "from google.colab import drive\n",
    "drive.mount('/content/gdrive')"
   ]
  },
  {
   "attachments": {},
   "cell_type": "markdown",
   "metadata": {},
   "source": [
    "## Dataset"
   ]
  },
  {
   "cell_type": "code",
   "execution_count": null,
   "metadata": {},
   "outputs": [],
   "source": [
    "language = \"Swedish\"\n",
    "language_code = \"sv-SE\""
   ]
  },
  {
   "cell_type": "code",
   "execution_count": null,
   "metadata": {},
   "outputs": [],
   "source": [
    "from datasets import load_dataset, DatasetDict\n",
    "\n",
    "common_voice = DatasetDict()\n",
    "\n",
    "common_voice[\"train\"] = load_dataset(\"mozilla-foundation/common_voice_11_0\", language_code, split=\"train+validation\", use_auth_token=True)\n",
    "common_voice[\"test\"] = load_dataset(\"mozilla-foundation/common_voice_11_0\", language_code, split=\"test\", use_auth_token=True)\n",
    "\n",
    "print(common_voice)"
   ]
  },
  {
   "cell_type": "code",
   "execution_count": null,
   "metadata": {},
   "outputs": [],
   "source": [
    "common_voice = common_voice.remove_columns([\"accent\", \"age\", \"client_id\", \"down_votes\", \"gender\", \"locale\", \"path\", \"segment\", \"up_votes\"])"
   ]
  },
  {
   "attachments": {},
   "cell_type": "markdown",
   "metadata": {},
   "source": [
    "## Feature Extractor"
   ]
  },
  {
   "cell_type": "code",
   "execution_count": null,
   "metadata": {},
   "outputs": [],
   "source": [
    "from transformers import WhisperFeatureExtractor\n",
    "\n",
    "feature_extractor = WhisperFeatureExtractor.from_pretrained(\"openai/whisper-base\")"
   ]
  },
  {
   "attachments": {},
   "cell_type": "markdown",
   "metadata": {},
   "source": [
    "## Tokenizer"
   ]
  },
  {
   "cell_type": "code",
   "execution_count": null,
   "metadata": {},
   "outputs": [],
   "source": [
    "from transformers import WhisperTokenizer\n",
    "\n",
    "tokenizer = WhisperTokenizer.from_pretrained(\"openai/whisper-base\", language=language, task=\"transcribe\")"
   ]
  },
  {
   "attachments": {},
   "cell_type": "markdown",
   "metadata": {},
   "source": [
    "## Check first datapoint"
   ]
  },
  {
   "cell_type": "code",
   "execution_count": null,
   "metadata": {},
   "outputs": [],
   "source": [
    "input_str = common_voice[\"train\"][0][\"sentence\"]\n",
    "labels = tokenizer(input_str).input_ids\n",
    "decoded_with_special = tokenizer.decode(labels, skip_special_tokens=False)\n",
    "decoded_str = tokenizer.decode(labels, skip_special_tokens=True)\n",
    "\n",
    "print(f\"Input:                 {input_str}\")\n",
    "print(f\"Decoded w/ special:    {decoded_with_special}\")\n",
    "print(f\"Decoded w/out special: {decoded_str}\")\n",
    "print(f\"Are equal:             {input_str == decoded_str}\")"
   ]
  },
  {
   "attachments": {},
   "cell_type": "markdown",
   "metadata": {},
   "source": [
    "## Wrapper for both"
   ]
  },
  {
   "cell_type": "code",
   "execution_count": null,
   "metadata": {},
   "outputs": [],
   "source": [
    "from transformers import WhisperProcessor\n",
    "\n",
    "processor = WhisperProcessor.from_pretrained(\"openai/whisper-base\", language=language, task=\"transcribe\")"
   ]
  },
  {
   "attachments": {},
   "cell_type": "markdown",
   "metadata": {},
   "source": [
    "## Explore the data"
   ]
  },
  {
   "cell_type": "code",
   "execution_count": null,
   "metadata": {},
   "outputs": [],
   "source": [
    "print(common_voice[\"train\"][0])"
   ]
  },
  {
   "attachments": {},
   "cell_type": "markdown",
   "metadata": {},
   "source": [
    "## Change sampling rate"
   ]
  },
  {
   "cell_type": "code",
   "execution_count": null,
   "metadata": {},
   "outputs": [],
   "source": [
    "from datasets import Audio\n",
    "\n",
    "common_voice = common_voice.cast_column(\"audio\", Audio(sampling_rate=16000))\n",
    "\n",
    "print(common_voice[\"train\"][0])"
   ]
  },
  {
   "attachments": {},
   "cell_type": "markdown",
   "metadata": {},
   "source": [
    "## Create Feature Function"
   ]
  },
  {
   "cell_type": "code",
   "execution_count": null,
   "metadata": {},
   "outputs": [],
   "source": [
    "def prepare_dataset(batch):\n",
    "    # load and resample audio data from 48 to 16kHz\n",
    "    audio = batch[\"audio\"]\n",
    "\n",
    "    # compute log-Mel input features from input audio array \n",
    "    batch[\"input_features\"] = feature_extractor(audio[\"array\"], sampling_rate=audio[\"sampling_rate\"]).input_features[0]\n",
    "\n",
    "    # encode target text to label ids \n",
    "    batch[\"labels\"] = tokenizer(batch[\"sentence\"]).input_ids\n",
    "    return batch"
   ]
  },
  {
   "cell_type": "code",
   "execution_count": null,
   "metadata": {},
   "outputs": [],
   "source": [
    "common_voice = common_voice.map(prepare_dataset, remove_columns=common_voice.column_names[\"train\"], num_proc=4)"
   ]
  },
  {
   "attachments": {},
   "cell_type": "markdown",
   "metadata": {},
   "source": [
    "## Save the data"
   ]
  },
  {
   "cell_type": "code",
   "execution_count": null,
   "metadata": {},
   "outputs": [],
   "source": [
    "dataset_name = \"whisper_swedish\"\n",
    "\n",
    "common_voice.push_to_hub(repo_id=dataset_name, private=True)"
   ]
  },
  {
   "cell_type": "code",
   "execution_count": null,
   "metadata": {},
   "outputs": [],
   "source": [
    "common_voice.save('common_voice', '/content/drive/My Drive/common_voice_dataset')"
   ]
  }
 ],
 "metadata": {
  "kernelspec": {
   "display_name": "data_IC",
   "language": "python",
   "name": "python3"
  },
  "language_info": {
   "codemirror_mode": {
    "name": "ipython",
    "version": 3
   },
   "file_extension": ".py",
   "mimetype": "text/x-python",
   "name": "python",
   "nbconvert_exporter": "python",
   "pygments_lexer": "ipython3",
   "version": "3.10.4"
  },
  "orig_nbformat": 4,
  "vscode": {
   "interpreter": {
    "hash": "52e0a6642fa4ccb929705c2f45c61ec276adc762e955b059c6a932e19d99f83b"
   }
  }
 },
 "nbformat": 4,
 "nbformat_minor": 2
}
